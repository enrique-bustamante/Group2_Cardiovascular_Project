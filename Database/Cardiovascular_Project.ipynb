{
 "cells": [
  {
   "cell_type": "code",
   "execution_count": 1,
   "metadata": {},
   "outputs": [
    {
     "ename": "ModuleNotFoundError",
     "evalue": "No module named 'config'",
     "output_type": "error",
     "traceback": [
      "\u001b[0;31m---------------------------------------------------------------------------\u001b[0m",
      "\u001b[0;31mModuleNotFoundError\u001b[0m                       Traceback (most recent call last)",
      "\u001b[0;32m<ipython-input-1-5668ae834071>\u001b[0m in \u001b[0;36m<module>\u001b[0;34m\u001b[0m\n\u001b[1;32m      3\u001b[0m \u001b[0;32mimport\u001b[0m \u001b[0mnumpy\u001b[0m \u001b[0;32mas\u001b[0m \u001b[0mnp\u001b[0m\u001b[0;34m\u001b[0m\u001b[0;34m\u001b[0m\u001b[0m\n\u001b[1;32m      4\u001b[0m \u001b[0;32mimport\u001b[0m \u001b[0mmatplotlib\u001b[0m\u001b[0;34m.\u001b[0m\u001b[0mpyplot\u001b[0m \u001b[0;32mas\u001b[0m \u001b[0mplt\u001b[0m\u001b[0;34m\u001b[0m\u001b[0;34m\u001b[0m\u001b[0m\n\u001b[0;32m----> 5\u001b[0;31m \u001b[0;32mfrom\u001b[0m \u001b[0mconfig\u001b[0m \u001b[0;32mimport\u001b[0m \u001b[0mpostgreSQLKey\u001b[0m\u001b[0;34m\u001b[0m\u001b[0;34m\u001b[0m\u001b[0m\n\u001b[0m",
      "\u001b[0;31mModuleNotFoundError\u001b[0m: No module named 'config'"
     ]
    }
   ],
   "source": [
    "# Add the Pandas dependency.\n",
    "import pandas as pd\n",
    "import numpy as np\n",
    "import matplotlib.pyplot as plt"
   ]
  },
  {
   "cell_type": "code",
   "execution_count": null,
   "metadata": {
    "scrolled": true
   },
   "outputs": [],
   "source": [
    "#Load the CSV\n",
    "cardio_df = pd.read_csv(\"../Resources/cardio_train.csv\", index_col= \"id\")\n",
    "cardio_df"
   ]
  },
  {
   "cell_type": "code",
   "execution_count": null,
   "metadata": {},
   "outputs": [],
   "source": [
    "#Determine if there are any missing values\n",
    "cardio_df.count()"
   ]
  },
  {
   "cell_type": "code",
   "execution_count": null,
   "metadata": {},
   "outputs": [],
   "source": [
    "#Determine the data types for the cardio DF\n",
    "cardio_df.dtypes"
   ]
  },
  {
   "cell_type": "code",
   "execution_count": null,
   "metadata": {
    "scrolled": true
   },
   "outputs": [],
   "source": [
    "#Change age column from days to years\n",
    "cardio_df['age'] = cardio_df['age'] / 365.25\n",
    "cardio_df.head()"
   ]
  },
  {
   "cell_type": "code",
   "execution_count": null,
   "metadata": {},
   "outputs": [],
   "source": [
    "#Format age column\n",
    "cardio_df['age'] = cardio_df['age'].map(\"{:,.0f}\".format)\n",
    "cardio_df"
   ]
  },
  {
   "cell_type": "code",
   "execution_count": null,
   "metadata": {},
   "outputs": [],
   "source": [
    "#Change age datatype to int\n",
    "cardio_df['age'] = cardio_df['age'].astype(int)\n",
    "cardio_df.dtypes"
   ]
  },
  {
   "cell_type": "code",
   "execution_count": null,
   "metadata": {
    "scrolled": true
   },
   "outputs": [],
   "source": [
    "#Look at statistical value for columns for outliers\n",
    "cardio_df[['age', 'height', 'weight', 'ap_hi', 'ap_lo']].describe()"
   ]
  },
  {
   "cell_type": "code",
   "execution_count": null,
   "metadata": {},
   "outputs": [],
   "source": [
    "#Take the absolute values of the ap_hi data column\n",
    "cardio_df['ap_hi'] = cardio_df['ap_hi'].apply(abs)"
   ]
  },
  {
   "cell_type": "code",
   "execution_count": null,
   "metadata": {},
   "outputs": [],
   "source": [
    "cardio_df[['age', 'height', 'weight', 'ap_hi', 'ap_lo']].describe()"
   ]
  },
  {
   "cell_type": "code",
   "execution_count": null,
   "metadata": {},
   "outputs": [],
   "source": [
    "#Take the absolute value of the ap_lo column\n",
    "cardio_df['ap_lo'] = cardio_df['ap_lo'].apply(abs)"
   ]
  },
  {
   "cell_type": "code",
   "execution_count": null,
   "metadata": {},
   "outputs": [],
   "source": [
    "cardio_df[['age', 'height', 'weight', 'ap_hi', 'ap_lo']].describe()"
   ]
  },
  {
   "cell_type": "code",
   "execution_count": null,
   "metadata": {},
   "outputs": [],
   "source": [
    "boxplot = cardio_df.boxplot(column=['height','weight','ap_hi','ap_lo'])"
   ]
  },
  {
   "cell_type": "code",
   "execution_count": null,
   "metadata": {},
   "outputs": [],
   "source": [
    "#Remove outliers for height column; Parameters are set at 4’10” to 7’ (147 cm to 213 cm)\n",
    "index = cardio_df[(cardio_df['height'] >= 213)|(cardio_df['height'] <= 147)].index\n",
    "cardio_df.drop(index, inplace=True)\n",
    "cardio_df['height'].describe()"
   ]
  },
  {
   "cell_type": "code",
   "execution_count": null,
   "metadata": {},
   "outputs": [],
   "source": [
    "#Remove outliers for weight column; Parameters are set at 90 to 300lbs (40 kg to 136 kg)\n",
    "index = cardio_df[(cardio_df['weight'] >= 136)|(cardio_df['weight'] <= 40)].index\n",
    "cardio_df.drop(index, inplace=True)\n",
    "cardio_df['weight'].describe()"
   ]
  },
  {
   "cell_type": "code",
   "execution_count": null,
   "metadata": {},
   "outputs": [],
   "source": [
    "#Remove outliers for ap_hi column; Parameters are set at 100 to 200\n",
    "index = cardio_df[(cardio_df['ap_hi'] >= 250)|(cardio_df['ap_hi'] <= 50)].index\n",
    "cardio_df.drop(index, inplace=True)\n",
    "cardio_df['ap_hi'].describe()"
   ]
  },
  {
   "cell_type": "code",
   "execution_count": null,
   "metadata": {},
   "outputs": [],
   "source": [
    "cardio_df['ap_lo'].hist()"
   ]
  },
  {
   "cell_type": "code",
   "execution_count": null,
   "metadata": {},
   "outputs": [],
   "source": [
    "#Remove outliers for ap_lo column; Parameters are set at 70 to 120\n",
    "index = cardio_df[(cardio_df['ap_lo'] >= 200)|(cardio_df['ap_lo'] <= 30)].index\n",
    "cardio_df.drop(index, inplace=True)\n",
    "cardio_df['ap_lo'].describe()"
   ]
  },
  {
   "cell_type": "code",
   "execution_count": null,
   "metadata": {},
   "outputs": [],
   "source": [
    "boxplot = cardio_df.boxplot(column=['height','weight','ap_hi','ap_lo'])"
   ]
  },
  {
   "cell_type": "code",
   "execution_count": null,
   "metadata": {},
   "outputs": [],
   "source": [
    "#Check how many datapoints there are now after removing outliers\n",
    "cardio_df.count()"
   ]
  },
  {
   "cell_type": "code",
   "execution_count": null,
   "metadata": {},
   "outputs": [],
   "source": [
    "cardio_df.head()"
   ]
  },
  {
   "cell_type": "code",
   "execution_count": null,
   "metadata": {},
   "outputs": [],
   "source": [
    "#Calculate BMI column\n",
    "cardio_df['bmi'] = cardio_df['weight'] / (cardio_df['height']/100).pow(2)\n",
    "cardio_df\n"
   ]
  },
  {
   "cell_type": "code",
   "execution_count": null,
   "metadata": {},
   "outputs": [],
   "source": [
    "cardio_df['weight'] = cardio_df['weight'].map(\"{:,.0f}\".format)\n",
    "cardio_df['bmi'] = cardio_df['bmi'].map(\"{:,.0f}\".format)\n",
    "cardio_df\n",
    "\n"
   ]
  },
  {
   "cell_type": "code",
   "execution_count": null,
   "metadata": {},
   "outputs": [],
   "source": [
    "cardio_df['bmi'].hist()"
   ]
  },
  {
   "cell_type": "code",
   "execution_count": null,
   "metadata": {},
   "outputs": [],
   "source": [
    "#Split data set into Medical \n",
    "\n",
    "cardio_df_medical = pd.DataFrame(cardio_df, columns = ['age','gender','height','weight','ap_hi','ap_lo','cholesterol','glc','bmi'])\n",
    "cardio_df_medical\n"
   ]
  },
  {
   "cell_type": "code",
   "execution_count": null,
   "metadata": {
    "scrolled": true
   },
   "outputs": [],
   "source": [
    "#Split data set into Behavior\n",
    "\n",
    "cardio_df_behavior = pd.DataFrame(cardio_df, columns = ['smoke','alco','active','cardio'])\n",
    "cardio_df_behavior\n"
   ]
  },
  {
   "cell_type": "code",
   "execution_count": null,
   "metadata": {},
   "outputs": [],
   "source": [
    "#Export Medical DataFrame to CSV\n",
    "cardio_df_medical.to_csv(r'C:\\Users\\Sara\\Desktop\\Group2_Cardiovascular_Project\\Resources\\cardio_df_medical.csv', index=True, header = True)\n"
   ]
  },
  {
   "cell_type": "code",
   "execution_count": null,
   "metadata": {},
   "outputs": [],
   "source": [
    "#Export Behavior DataFrame to CSV\n",
    "cardio_df_behavior.to_csv(r'C:\\Users\\Sara\\Desktop\\Group2_Cardiovascular_Project\\Resources\\cardio_df_behavior.csv', index=True, header = True)"
   ]
  }
 ],
 "metadata": {
  "kernelspec": {
   "display_name": "mlenv",
   "language": "python",
   "name": "mlenv"
  },
  "language_info": {
   "codemirror_mode": {
    "name": "ipython",
    "version": 3
   },
   "file_extension": ".py",
   "mimetype": "text/x-python",
   "name": "python",
   "nbconvert_exporter": "python",
   "pygments_lexer": "ipython3",
   "version": "3.7.7"
  }
 },
 "nbformat": 4,
 "nbformat_minor": 4
}
